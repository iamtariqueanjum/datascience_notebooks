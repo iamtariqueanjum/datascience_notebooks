{
 "cells": [
  {
   "cell_type": "code",
   "execution_count": 3,
   "metadata": {},
   "outputs": [
    {
     "name": "stdout",
     "output_type": "stream",
     "text": [
      "The price is 100 rupees\n"
     ]
    }
   ],
   "source": [
    "price = 100\n",
    "txt = \"The price is {} rupees\"\n",
    "print(txt.format(price))"
   ]
  },
  {
   "cell_type": "code",
   "execution_count": 1,
   "metadata": {},
   "outputs": [
    {
     "name": "stdout",
     "output_type": "stream",
     "text": [
      "The price is 100.00 rupees\n"
     ]
    }
   ],
   "source": [
    "price = 100\n",
    "txt = \"The price is {:.2f} rupees\"\n",
    "print(txt.format(price))"
   ]
  },
  {
   "cell_type": "code",
   "execution_count": 5,
   "metadata": {},
   "outputs": [
    {
     "name": "stdout",
     "output_type": "stream",
     "text": [
      "I want 3 pieces of item number 134 for 500.00 rupees\n"
     ]
    }
   ],
   "source": [
    "quantity = 3\n",
    "itemno = 134\n",
    "price = 500\n",
    "#order = \"I want {} pieces of item number {} for {:.2f} rupees\"\n",
    "order = \"I want {0} pieces of item number {1} for {2:.2f} rupees\"\n",
    "print(order.format(quantity,itemno,price))"
   ]
  },
  {
   "cell_type": "code",
   "execution_count": 6,
   "metadata": {},
   "outputs": [
    {
     "name": "stdout",
     "output_type": "stream",
     "text": [
      "I have a Ford and it is a Mustang\n"
     ]
    }
   ],
   "source": [
    "myorder = \"I have a {carname} and it is a {model}\"\n",
    "print(myorder.format(carname = \"Ford\", model = \"Mustang\"))"
   ]
  }
 ],
 "metadata": {
  "kernelspec": {
   "display_name": "Python 3",
   "language": "python",
   "name": "python3"
  },
  "language_info": {
   "codemirror_mode": {
    "name": "ipython",
    "version": 3
   },
   "file_extension": ".py",
   "mimetype": "text/x-python",
   "name": "python",
   "nbconvert_exporter": "python",
   "pygments_lexer": "ipython3",
   "version": "3.8.5"
  }
 },
 "nbformat": 4,
 "nbformat_minor": 4
}
