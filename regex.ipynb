{
 "cells": [
  {
   "cell_type": "code",
   "execution_count": 20,
   "metadata": {},
   "outputs": [
    {
     "name": "stdout",
     "output_type": "stream",
     "text": [
      "{'Janice': '22', 'Theon': '33', 'Gabriel': '44', 'Joey': '21'}\n"
     ]
    }
   ],
   "source": [
    "import re\n",
    "\n",
    "Nameage = '''\n",
    "Janice is 22 and Theon is 33\n",
    "Gabriel is 44 and Joey is 21\n",
    "'''\n",
    "\n",
    "ages = re.findall(r'\\d{1,3}',Nameage)\n",
    "names = re.findall(r'[A-Z][a-z]*',Nameage)\n",
    "ageDict = {}\n",
    "x = 0\n",
    "for eachname in names:\n",
    "    \n",
    "    ageDict[eachname]=ages[x]\n",
    "    x += 1\n",
    "\n",
    "print(ageDict)"
   ]
  },
  {
   "cell_type": "code",
   "execution_count": 8,
   "metadata": {},
   "outputs": [
    {
     "name": "stdout",
     "output_type": "stream",
     "text": [
      "Sat\n",
      "pat\n"
     ]
    }
   ],
   "source": [
    "import re\n",
    "\n",
    "str = 'Sat,hat,mat,pat'\n",
    "#allstr = re.findall(\"[h-m]at\",str)\n",
    "allstr = re.findall(\"[^h-m]at\",str)\n",
    "\n",
    "\n",
    "for i in allstr:\n",
    "    print(i)"
   ]
  },
  {
   "cell_type": "code",
   "execution_count": 1,
   "metadata": {},
   "outputs": [
    {
     "name": "stdout",
     "output_type": "stream",
     "text": [
      "hat food mat pat\n"
     ]
    }
   ],
   "source": [
    "import re\n",
    "\n",
    "food = \"hat rat mat pat\"\n",
    "regex = re.compile(\"[r]at\")\n",
    "food = regex.sub(\"food\",food)\n",
    "print(food)"
   ]
  },
  {
   "cell_type": "code",
   "execution_count": 5,
   "metadata": {},
   "outputs": [
    {
     "name": "stdout",
     "output_type": "stream",
     "text": [
      "<re.Match object; span=(8, 15), match='\\\\drogba'>\n"
     ]
    }
   ],
   "source": [
    "import re\n",
    "randstr = \"here is \\\\drogba\"\n",
    "print(re.search(r\"\\\\drogba\",randstr))"
   ]
  },
  {
   "cell_type": "code",
   "execution_count": 12,
   "metadata": {},
   "outputs": [
    {
     "name": "stdout",
     "output_type": "stream",
     "text": [
      "\n",
      "keep the blue flag\n",
      "flying high\n",
      "Chelsea\n",
      "\n",
      " keep the blue flag flying high Chelsea \n"
     ]
    }
   ],
   "source": [
    "import re\n",
    "randstr = '''\n",
    "keep the blue flag\n",
    "flying high\n",
    "Chelsea\n",
    "'''\n",
    "print(randstr)\n",
    "regex = re.compile(\"\\n\")\n",
    "randstr = regex.sub(\" \",randstr)\n",
    "\n",
    "print(randstr)\n",
    "\n",
    "#\\b: backspace\n",
    "#\\f: formfeed\n",
    "#\\r: carriage return\n",
    "#\\t: tab\n",
    "#\\v: vertical tab"
   ]
  },
  {
   "cell_type": "code",
   "execution_count": 16,
   "metadata": {},
   "outputs": [
    {
     "name": "stdout",
     "output_type": "stream",
     "text": [
      "12345\n",
      "Matches: 5\n",
      "Matches: 0\n",
      "Matches: 1\n",
      "123 1234 12345 123456 1234567\n",
      "Matches: 3\n"
     ]
    }
   ],
   "source": [
    "import re\n",
    "\n",
    "randstr = \"12345\"\n",
    "print(randstr)\n",
    "print(\"Matches:\",len(re.findall(\"\\d\",randstr)))\n",
    "print(\"Matches:\",len(re.findall(\"\\D\",randstr)))\n",
    "print(\"Matches:\",len(re.findall(\"\\d{5}\",randstr)))\n",
    "\n",
    "num = \"123 1234 12345 123456 1234567\"\n",
    "print(num)\n",
    "print(\"Matches:\",len(re.findall(\"\\d{5,7}\",num)))"
   ]
  },
  {
   "cell_type": "code",
   "execution_count": 26,
   "metadata": {},
   "outputs": [
    {
     "name": "stdout",
     "output_type": "stream",
     "text": [
      "Yes, It is a phone number\n"
     ]
    }
   ],
   "source": [
    "#Phone number verification -> xxx-xxx-xxxx\n",
    "import re\n",
    "\n",
    "phone = \"412-555-1212\"\n",
    "\n",
    "#\\w - [a-zA-Z0-9_]\n",
    "#\\W - ^[a-zA-Z0-9_]\n",
    "\n",
    "if re.search(\"\\w{3}-\\w{3}-\\w{4}\",phone):\n",
    "    print(\"Yes, It is a phone number\")\n",
    "else:\n",
    "    print(\"Wrong Number\")"
   ]
  },
  {
   "cell_type": "code",
   "execution_count": 30,
   "metadata": {},
   "outputs": [
    {
     "name": "stdout",
     "output_type": "stream",
     "text": [
      "Full Name is valid\n"
     ]
    }
   ],
   "source": [
    "import re\n",
    "\n",
    "#\\s - [\\t\\r\\n\\f]\n",
    "#\\S - ^[\\t\\r\\n\\f]\n",
    "\n",
    "if re.search(\"\\w{2,20}\\s\\w{2,20}\",\"Tarique Anjum\"):\n",
    "    print(\"Full Name is valid\")\n",
    "else:\n",
    "    print(\"Invalid\")"
   ]
  },
  {
   "cell_type": "code",
   "execution_count": 34,
   "metadata": {},
   "outputs": [
    {
     "name": "stdout",
     "output_type": "stream",
     "text": [
      "EmailMatches: 2\n"
     ]
    }
   ],
   "source": [
    "#Email address\n",
    "import re\n",
    "\n",
    "email = \"sk@aol.com md @.com @seo.com dc@.com sk@aol.com\"\n",
    "\n",
    "print(\"EmailMatches:\",len(re.findall(\"[\\w._%+-]{1,20}@[\\w.-]{2,20}.[A-Za-z]{2,3}\",email)))"
   ]
  }
 ],
 "metadata": {
  "kernelspec": {
   "display_name": "Python 3",
   "language": "python",
   "name": "python3"
  },
  "language_info": {
   "codemirror_mode": {
    "name": "ipython",
    "version": 3
   },
   "file_extension": ".py",
   "mimetype": "text/x-python",
   "name": "python",
   "nbconvert_exporter": "python",
   "pygments_lexer": "ipython3",
   "version": "3.8.5"
  }
 },
 "nbformat": 4,
 "nbformat_minor": 4
}
