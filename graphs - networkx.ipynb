{
 "cells": [
  {
   "cell_type": "code",
   "execution_count": null,
   "metadata": {
    "scrolled": false
   },
   "outputs": [],
   "source": [
    "!pip  install Pandas Scikit-learn Numpy h5py Cython Flask Seaborn Scipy Numpy Matplotlib Ipython Jupyter Sympy Nose"
   ]
  },
  {
   "cell_type": "code",
   "execution_count": 4,
   "metadata": {},
   "outputs": [
    {
     "name": "stdout",
     "output_type": "stream",
     "text": [
      "[]\n",
      "[]\n",
      "<class 'networkx.classes.reportviews.NodeView'>\n",
      "<class 'networkx.classes.reportviews.EdgeView'>\n"
     ]
    }
   ],
   "source": [
    "import networkx as nx\n",
    "G=nx.Graph()\n",
    "\n",
    "print(G.nodes())\n",
    "print(G.edges())\n",
    "print(type(G.nodes()))\n",
    "print(type(G.edges()))"
   ]
  },
  {
   "cell_type": "code",
   "execution_count": 5,
   "metadata": {},
   "outputs": [
    {
     "name": "stdout",
     "output_type": "stream",
     "text": [
      "Nodes of graph: \n",
      "['a', 'b', 'c']\n",
      "Edges of graph: \n",
      "[]\n"
     ]
    }
   ],
   "source": [
    "# adding just one node:\n",
    "G.add_node(\"a\")\n",
    "# a list of nodes:\n",
    "G.add_nodes_from([\"b\",\"c\"])\n",
    "\n",
    "print(\"Nodes of graph: \")\n",
    "print(G.nodes())\n",
    "print(\"Edges of graph: \")\n",
    "print(G.edges())"
   ]
  },
  {
   "cell_type": "code",
   "execution_count": 6,
   "metadata": {},
   "outputs": [
    {
     "name": "stdout",
     "output_type": "stream",
     "text": [
      "Nodes of graph: \n",
      "['a', 'b', 'c', 1, 2, 'd', 'e']\n",
      "Edges of graph: \n",
      "[('a', 'b'), (1, 2), ('d', 'e')]\n"
     ]
    }
   ],
   "source": [
    "G.add_node(\"a\")\n",
    "G.add_nodes_from([\"b\",\"c\"])\n",
    "\n",
    "G.add_edge(1,2)\n",
    "edge = (\"d\", \"e\")\n",
    "G.add_edge(*edge)\n",
    "edge = (\"a\", \"b\")\n",
    "G.add_edge(*edge)\n",
    "\n",
    "print(\"Nodes of graph: \")\n",
    "print(G.nodes())\n",
    "print(\"Edges of graph: \")\n",
    "print(G.edges())"
   ]
  },
  {
   "cell_type": "code",
   "execution_count": 7,
   "metadata": {},
   "outputs": [
    {
     "data": {
      "image/png": "[encoded data removed]",
      "text/plain": [
       "<Figure size 432x288 with 1 Axes>"
      ]
     },
     "metadata": {},
     "output_type": "display_data"
    }
   ],
   "source": [
    "# adding a list of edges:\n",
    "G.add_edges_from([(\"a\",\"c\"),(\"c\",\"d\"), (\"a\",1), (1,\"d\"), (\"a\",2)])\n",
    "nx.draw(G)"
   ]
  },
  {
   "cell_type": "code",
   "execution_count": 8,
   "metadata": {},
   "outputs": [
    {
     "name": "stdout",
     "output_type": "stream",
     "text": [
      "Nodes of graph: \n",
      "[0, 1, 2, 3]\n",
      "Edges of graph: \n",
      "[(0, 1), (1, 2), (2, 3)]\n"
     ]
    },
    {
     "data": {
      "image/png": "[encoded data removed]",
      "text/plain": [
       "<Figure size 432x288 with 1 Axes>"
      ]
     },
     "metadata": {},
     "output_type": "display_data"
    }
   ],
   "source": [
    "import networkx as nx\n",
    "import matplotlib.pyplot as plt\n",
    "\n",
    "G=nx.path_graph(4)\n",
    "\n",
    "print(\"Nodes of graph: \")\n",
    "print(G.nodes())\n",
    "print(\"Edges of graph: \")\n",
    "print(G.edges())\n",
    "nx.draw(G)\n",
    "plt.savefig(\"path_graph1.png\")\n",
    "plt.show()"
   ]
  },
  {
   "cell_type": "code",
   "execution_count": 9,
   "metadata": {},
   "outputs": [
    {
     "name": "stdout",
     "output_type": "stream",
     "text": [
      "Nodes of graph: \n",
      "['Toronto', 'London', 'Berlin', 'New York']\n",
      "Edges of graph: \n",
      "[('Toronto', 'London'), ('London', 'Berlin'), ('Berlin', 'New York')]\n"
     ]
    },
    {
     "data": {
      "image/png": "[encoded data removed]",
      "text/plain": [
       "<Figure size 432x288 with 1 Axes>"
      ]
     },
     "metadata": {},
     "output_type": "display_data"
    }
   ],
   "source": [
    "import networkx as nx\n",
    "import matplotlib.pyplot as plt\n",
    "\n",
    "G=nx.path_graph(4)\n",
    "cities = {0:\"Toronto\",1:\"London\",2:\"Berlin\",3:\"New York\"}\n",
    "\n",
    "H=nx.relabel_nodes(G,cities)\n",
    " \n",
    "print(\"Nodes of graph: \")\n",
    "print(H.nodes())\n",
    "print(\"Edges of graph: \")\n",
    "print(H.edges())\n",
    "nx.draw(H)\n",
    "plt.savefig(\"path_graph_cities.png\")\n",
    "plt.show()"
   ]
  }
 ],
 "metadata": {
  "kernelspec": {
   "display_name": "Python 3",
   "language": "python",
   "name": "python3"
  },
  "language_info": {
   "codemirror_mode": {
    "name": "ipython",
    "version": 3
   },
   "file_extension": ".py",
   "mimetype": "text/x-python",
   "name": "python",
   "nbconvert_exporter": "python",
   "pygments_lexer": "ipython3",
   "version": "3.8.5"
  }
 },
 "nbformat": 4,
 "nbformat_minor": 4
}
