{
 "cells": [
  {
   "cell_type": "code",
   "execution_count": null,
   "metadata": {
    "scrolled": true
   },
   "outputs": [],
   "source": [
    "import numpy as np"
   ]
  },
  {
   "cell_type": "code",
   "execution_count": null,
   "metadata": {
    "scrolled": true
   },
   "outputs": [],
   "source": [
    "a = np.array([[1,2,3],[3,2,1]])\n",
    "print(a.ndim) # no of dimensions\n",
    "print(a.shape)\n",
    "print(type(a))"
   ]
  },
  {
   "cell_type": "code",
   "execution_count": null,
   "metadata": {
    "scrolled": true
   },
   "outputs": [],
   "source": [
    "np.zeros((3,4),dtype=int)"
   ]
  },
  {
   "cell_type": "code",
   "execution_count": null,
   "metadata": {
    "scrolled": true
   },
   "outputs": [],
   "source": [
    "np.ones((3,3),dtype=int)"
   ]
  },
  {
   "cell_type": "code",
   "execution_count": null,
   "metadata": {},
   "outputs": [],
   "source": [
    "# numpy.ones_like method \n",
    "a = np.arange(10).reshape(5, 2) \n",
    "print(\"Original : \\n\", a) \n",
    "\n",
    "b = np.ones_like(a, float) \n",
    "print(\"\\nGenerated : \\n\", b) \n",
    "\n",
    "c = np.arange(8) \n",
    "print(\"\\nOriginal :\\n\",c)\n",
    "\n",
    "d = np.ones_like(c) \n",
    "print(\"\\nGenerated :\\n\",d) "
   ]
  },
  {
   "cell_type": "code",
   "execution_count": null,
   "metadata": {
    "scrolled": true
   },
   "outputs": [],
   "source": [
    "# Create an array of evenly spaced values (step value)\n",
    "np.arange(10,25,5)"
   ]
  },
  {
   "cell_type": "code",
   "execution_count": null,
   "metadata": {
    "scrolled": true
   },
   "outputs": [],
   "source": [
    "# Create an array of evenly spaced values (number of samples)\n",
    "print(np.linspace(0,2,5,endpoint=True))\n",
    "print(np.linspace(0,2,5,endpoint=False))"
   ]
  },
  {
   "cell_type": "code",
   "execution_count": null,
   "metadata": {
    "scrolled": true
   },
   "outputs": [],
   "source": [
    "# Create a constant array\n",
    "np.full((2,2),7) "
   ]
  },
  {
   "cell_type": "code",
   "execution_count": null,
   "metadata": {
    "scrolled": true
   },
   "outputs": [],
   "source": [
    "# Create a 2X2 identity matrix\n",
    "#row,col,k,dtype\n",
    "print(np.eye(4,4,2))"
   ]
  },
  {
   "cell_type": "code",
   "execution_count": null,
   "metadata": {
    "scrolled": true
   },
   "outputs": [],
   "source": [
    "# Create an array with random values\n",
    "np.random.random((2,2,2)) #3d array"
   ]
  },
  {
   "cell_type": "code",
   "execution_count": null,
   "metadata": {
    "scrolled": true
   },
   "outputs": [],
   "source": [
    "# np. zeros is much faster if one wants to initialize an array to zeros. \n",
    "# In the case that one just wants to initialize an array of given shape and type but \n",
    "#doesn't care the initial entries in the array, np. empty is slightly faster.\n",
    "np.empty((3,2))"
   ]
  },
  {
   "cell_type": "code",
   "execution_count": null,
   "metadata": {},
   "outputs": [],
   "source": [
    "#convolve()\n",
    "x = [1,2,3,4,5,6]\n",
    "y = np.ones_like(x)\n",
    "print(\"Array 1: \",x)\n",
    "print(\"Array 2: \",y)\n",
    "print(\"\\nResultant matrix: \",np.convolve(x,y))\n",
    "print(\"\\nWhen mode is valid: \",np.convolve(x,y,'valid'))\n",
    "print(\"\\nWhen mode is same: \",np.convolve(x,y,'same'))\n",
    "print(\"\\nWhen mode is full: \",np.convolve(x,y,'full'))"
   ]
  },
  {
   "cell_type": "code",
   "execution_count": null,
   "metadata": {
    "scrolled": true
   },
   "outputs": [],
   "source": [
    "#numpy.dot()\n",
    "#Let us take scalars first \n",
    "a = np.dot(8, 4) \n",
    "print(\"The dot Product of above given scalar values : \")\n",
    "print(a) \n",
    "\n",
    "# Now we will take 1-D arrays \n",
    "vect_a = 4 + 3j\n",
    "vect_b = 8 + 5j\n",
    "# 4(8 + 5j) + 3j(8 – 5j) = 32+ 20j + 24j – 15= 17 + 44j\n",
    "\n",
    "dot_product = np.dot(vect_a, vect_b) \n",
    "print(\"The Dot Product of two 1-D arrays is : \")\n",
    "print(dot_product) \n",
    "\n",
    "a = np.array([[100,200],[23,12]])  \n",
    "b = np.array([[10,20],[12,21]]) \n",
    "print(\"\\n\",a)\n",
    "print(\"\\n\",b)\n",
    "dot = np.dot(a,b)  \n",
    "print(\"\\n\",dot)  # [[100 * 10 + 200 * 12, 100 * 20 + 200 * 21] , [23*10+12*12, 23*20 + 12*21]]"
   ]
  },
  {
   "cell_type": "code",
   "execution_count": null,
   "metadata": {},
   "outputs": [],
   "source": [
    "#numpy.vdot()\n",
    "a = np.array([[100,200],[23,12]])  \n",
    "b = np.array([[10,20],[12,21]])  \n",
    "print(a)\n",
    "print(b)\n",
    "vdot = np.vdot(a,b)  \n",
    "print(vdot)  # 100 *10 + 200 * 20 + 23 * 12 + 12 * 21 = 5528"
   ]
  },
  {
   "cell_type": "code",
   "execution_count": null,
   "metadata": {},
   "outputs": [],
   "source": [
    "#numpy.inner() 1-D\n",
    "a = np.array([1,2,3,4,5,6])  \n",
    "b = np.array([23,23,12,2,1,2])  \n",
    "print(a)\n",
    "print(b)\n",
    "inner = np.inner(a,b)  \n",
    "print(inner)  # 1*23+2*23+3*12+4*2+5*1+6*2"
   ]
  },
  {
   "cell_type": "code",
   "execution_count": null,
   "metadata": {},
   "outputs": [],
   "source": [
    "#numpy.inner() 2-D\n",
    "a = np.array([[100,200],[23,12]])  \n",
    "b = np.array([[10,20],[12,21]])  \n",
    "print(a)\n",
    "print(b)\n",
    "print(np.inner(a,b)) # [[ 100*10+200*20 , 100*12+200*21] , [23*10+12*20, 23*12+12*21]]"
   ]
  },
  {
   "cell_type": "code",
   "execution_count": null,
   "metadata": {},
   "outputs": [],
   "source": [
    "#numpy.matmul()\n",
    "a = np.array([[1,2,3],[4,5,6],[7,8,9]])  \n",
    "b = np.array([[23,23,12],[2,1,2],[7,8,9]])  \n",
    "print(a)\n",
    "print(b)\n",
    "mul = np.matmul(a,b)  \n",
    "print(mul)  "
   ]
  },
  {
   "cell_type": "code",
   "execution_count": null,
   "metadata": {},
   "outputs": [],
   "source": [
    "#numpy.linalg.det()\n",
    "a = np.array([[1,2],[3,4]])  \n",
    "print(a)\n",
    "print(np.linalg.det(a))"
   ]
  },
  {
   "cell_type": "code",
   "execution_count": null,
   "metadata": {},
   "outputs": [],
   "source": [
    "#numpy.lialg.solve()\n",
    "a = np.array([[1,2],[3,4]])  \n",
    "b = np.array([[1,2],[3,4]])  \n",
    "print(a)\n",
    "print(b)\n",
    "print(np.linalg.solve(a, b))  "
   ]
  },
  {
   "cell_type": "code",
   "execution_count": null,
   "metadata": {},
   "outputs": [],
   "source": [
    "#numpy.linalg.inv()\n",
    "a = np.array([[1,2],[3,4]])  \n",
    "print(\"Original array:\\n\",a)  \n",
    "b = np.linalg.inv(a)  \n",
    "print(\"Inverse:\\n\",b)  "
   ]
  },
  {
   "cell_type": "code",
   "execution_count": null,
   "metadata": {},
   "outputs": [],
   "source": [
    "#Saving & Loading On Disk\n",
    "np.save('my_array', a)\n",
    "np.savez('array.npz', a, b)\n",
    "np.load('my_array.npy')\n",
    "\n",
    "#Saving & Loading Text Files\n",
    "np.loadtxt(\"myfile.txt\")\n",
    "np.genfromtxt(\"my_file.csv\", delimiter=',')\n",
    "np.savetxt(\"myarray.txt\", a, delimiter=\" \")"
   ]
  },
  {
   "cell_type": "code",
   "execution_count": null,
   "metadata": {},
   "outputs": [],
   "source": [
    "# view() & copy()\n",
    "a = np.array([[3,2],[1,4]])   \n",
    "b = a.view() # Create a view of the array with the same data\n",
    "print(a)\n",
    "print(b)  \n",
    "c = np.copy(a) # Create a copy of the array\n",
    "print(c)\n",
    "d = a.copy() # Create a deep copy of the array\n",
    "print(d)"
   ]
  },
  {
   "cell_type": "code",
   "execution_count": null,
   "metadata": {},
   "outputs": [],
   "source": [
    "# sort()\n",
    "a = np.array([[17, 15], [10, 25]]) \n",
    "print(\"Array : \\n\",a)\n",
    "arr1 = np.sort(a, axis = 0)\n",
    "print(\"Sorting Along first axis (axis=0): \\n\",arr1)\n",
    "\n",
    "b = np.array([[1, 15], [20, 18]]) \n",
    "print(\"\\nArray: \\n\",b)\n",
    "arr2 = np.sort(b, axis = -1) \n",
    "print(\"Sorting along last axis (axis=-1): \\n\",arr2) \n",
    "\n",
    "c = np.array([[12, 15], [10, 1]]) \n",
    "print(\"\\nArray: \\n\",c)\n",
    "arr3 = np.sort(c, axis = None) \n",
    "print(\"Sorting Along none axis (axis=None): \\n\",arr3) \n",
    "\n",
    "d = np.dtype([('name', 'S10'),('marks',int)])  \n",
    "arr = np.array([('Mukesh',200),('John',251),('Anil',225)],dtype = d)  \n",
    "print(\"\\nArray: \\n\",arr)  \n",
    "print(\"Sorting data ordered by name (order='name'):\\n\",np.sort(arr,order = 'name'))  \n",
    "print(\"Sorting data ordered by marks (order='marks'):\\n\",np.sort(arr,order = 'marks'))  "
   ]
  }
 ],
 "metadata": {
  "kernelspec": {
   "display_name": "Python 3",
   "language": "python",
   "name": "python3"
  },
  "language_info": {
   "codemirror_mode": {
    "name": "ipython",
    "version": 3
   },
   "file_extension": ".py",
   "mimetype": "text/x-python",
   "name": "python",
   "nbconvert_exporter": "python",
   "pygments_lexer": "ipython3",
   "version": "3.8.5"
  }
 },
 "nbformat": 4,
 "nbformat_minor": 4
}
