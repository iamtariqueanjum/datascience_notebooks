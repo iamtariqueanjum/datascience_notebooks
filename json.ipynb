{
 "cells": [
  {
   "cell_type": "code",
   "execution_count": 7,
   "metadata": {},
   "outputs": [
    {
     "name": "stdout",
     "output_type": "stream",
     "text": [
      "{\n",
      "    \"Age\": \"18\",\n",
      "    \"Gender\": \"Male\",\n",
      "    \"Name\": \"Tarique Anjum\",\n",
      "    \"Occupation\": \"Student\"\n",
      "}\n",
      "{'Name': 'Tarique Anjum', 'Age': '18', 'Gender': 'Male', 'Occupation': 'Student'}\n"
     ]
    }
   ],
   "source": [
    "import json\n",
    "x={\"Name\":\"Tarique Anjum\",\"Age\":\"18\",\"Gender\":\"Male\",\"Occupation\":\"Student\"}\n",
    "y=json.dumps(x,indent=4,sort_keys=True)\n",
    "print(y)\n",
    "print(json.loads('{\"Name\":\"Tarique Anjum\",\"Age\":\"18\",\"Gender\":\"Male\",\"Occupation\":\"Student\"}'))"
   ]
  }
 ],
 "metadata": {
  "kernelspec": {
   "display_name": "Python 3",
   "language": "python",
   "name": "python3"
  },
  "language_info": {
   "codemirror_mode": {
    "name": "ipython",
    "version": 3
   },
   "file_extension": ".py",
   "mimetype": "text/x-python",
   "name": "python",
   "nbconvert_exporter": "python",
   "pygments_lexer": "ipython3",
   "version": "3.8.5"
  }
 },
 "nbformat": 4,
 "nbformat_minor": 4
}
